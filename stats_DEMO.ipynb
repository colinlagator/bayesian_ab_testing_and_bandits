{
 "cells": [
  {
   "cell_type": "code",
   "execution_count": 13,
   "metadata": {},
   "outputs": [],
   "source": [
    "from stats import ConversionRate, Demand, a_b_test, multivariate_test\n",
    "import numpy as np"
   ]
  },
  {
   "cell_type": "code",
   "execution_count": 14,
   "metadata": {},
   "outputs": [],
   "source": [
    "cr1 = ConversionRate(name=\"cr1\", a=1, b=1) #1% conversion rate\n",
    "cr1.update(1, 100)\n",
    "cr2 = ConversionRate(name=\"cr2\", a=1, b=1) #20% conversion rate\n",
    "cr2.update(20, 100)\n",
    "cr3 = ConversionRate(name=\"cr3\", a=1, b=1) #10% conversion rate\n",
    "cr3.update(10, 100)\n",
    "cr4 = ConversionRate(name=\"cr4\", a=1, b=1) #5% conversion rate\n",
    "cr4.update(5, 100)"
   ]
  },
  {
   "cell_type": "code",
   "execution_count": 15,
   "metadata": {},
   "outputs": [
    {
     "data": {
      "text/plain": [
       "Conversion Rate: 'cr2' (alpha:21, beta:81)"
      ]
     },
     "execution_count": 15,
     "metadata": {},
     "output_type": "execute_result"
    }
   ],
   "source": [
    "multivariate_test(cr1, cr2, cr3, control=cr4, eps=0.01, diff=0)"
   ]
  },
  {
   "cell_type": "code",
   "execution_count": 16,
   "metadata": {},
   "outputs": [
    {
     "data": {
      "text/plain": [
       "Conversion Rate: 'cr2' (alpha:21, beta:81)"
      ]
     },
     "execution_count": 16,
     "metadata": {},
     "output_type": "execute_result"
    }
   ],
   "source": [
    "a_b_test(cr1, cr2, eps=0.01, diff=0)"
   ]
  },
  {
   "cell_type": "code",
   "execution_count": 17,
   "metadata": {},
   "outputs": [],
   "source": [
    "d1 = Demand(name=\"d1\", a=1, b=1) #average of 3\n",
    "d1.update(8, 2)\n",
    "d2 = Demand(name=\"d1\", a=1, b=1) #average of 5.6\n",
    "d2.update(16, 2)\n",
    "d3 = Demand(name=\"d1\", a=1, b=1) #average of 11\n",
    "d3.update(32, 2)"
   ]
  },
  {
   "cell_type": "code",
   "execution_count": 18,
   "metadata": {},
   "outputs": [
    {
     "data": {
      "text/plain": [
       "Demand: 'd1' (alpha:33, beta:3)"
      ]
     },
     "execution_count": 18,
     "metadata": {},
     "output_type": "execute_result"
    }
   ],
   "source": [
    "multivariate_test(d1, d2, control=d3, eps=1, diff=0)"
   ]
  },
  {
   "cell_type": "code",
   "execution_count": 20,
   "metadata": {},
   "outputs": [
    {
     "data": {
      "text/plain": [
       "Demand: 'd1' (alpha:9, beta:3)"
      ]
     },
     "execution_count": 20,
     "metadata": {},
     "output_type": "execute_result"
    }
   ],
   "source": [
    "a_b_test(d1, d2, eps=0.01, diff=0)"
   ]
  }
 ],
 "metadata": {
  "kernelspec": {
   "display_name": "venv",
   "language": "python",
   "name": "python3"
  },
  "language_info": {
   "codemirror_mode": {
    "name": "ipython",
    "version": 3
   },
   "file_extension": ".py",
   "mimetype": "text/x-python",
   "name": "python",
   "nbconvert_exporter": "python",
   "pygments_lexer": "ipython3",
   "version": "3.8.5"
  }
 },
 "nbformat": 4,
 "nbformat_minor": 2
}
